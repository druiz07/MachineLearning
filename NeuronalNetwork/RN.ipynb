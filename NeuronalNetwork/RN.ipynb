{
 "cells": [
  {
   "cell_type": "code",
   "execution_count": 3,
   "id": "0565b8dc",
   "metadata": {
    "scrolled": false
   },
   "outputs": [
    {
     "name": "stdout",
     "output_type": "stream",
     "text": [
      "Precisión de la red neuronal: 97.52%\n",
      "Matriz de confusión:\n",
      "TP: 484, FP: 15\n",
      "FN: 16\n",
      "Precision: 0.97\n",
      "Recall: 0.97\n",
      "F1-Score: 0.97\n"
     ]
    }
   ],
   "source": [
    "import numpy as np\n",
    "from scipy.io import loadmat, savemat\n",
    "import matplotlib.pyplot as plt\n",
    "from ANN import predict\n",
    "from utils import displayData\n",
    "##DUDA -> Se puede usar esto para calcular el% a partir de las predicciones?\n",
    "from sklearn.metrics import accuracy_score\n",
    "\n",
    "# Carga de la matriz usando load mat de scipy\n",
    "#Esto nos permite separar los datos \n",
    "data = loadmat('data/ex3data1.mat', squeeze_me=True)\n",
    "y = data['y']\n",
    "X = data['X']\n",
    "\n",
    "##Cargamos los pesos a partir del archivo . mat usando de nuevo load mat\n",
    "weights = loadmat('data/ex3weights.mat')\n",
    "theta1, theta2 = weights['Theta1'], weights['Theta2']\n",
    "\n",
    "\n",
    "# Ejercicio 1: Calcular la precisión de la red neuronal\n",
    "#Devuelve un vector de tamaño : num ejemplos  con le etiqueta asociada a cada ejemplo\n",
    "predictions = predict(theta1, theta2, X)\n",
    "\n",
    "\n",
    "#Multiplicacion por 100 para obtener el porcentaje\n",
    "# Uso de sklearn para calcular la media de prediccion entre todas las etiquetas para cada ejemplo\n",
    "accuracy = accuracy_score(y, predictions) * 100\n",
    "print(f'Precisión de la red neuronal: {accuracy:.2f}%')\n",
    "\n",
    "# Ejercicio 2: Matriz de confusión, precision, recall y F1-Score para la clase 0\n",
    "positive_class = 5\n",
    "#Verificamos si tp fp y fn , para eso \n",
    "# usamos el cruce entre lo que nos da la prediccion (la etiqueta del modelo)\n",
    "#Y lo que nos da la y (los datos reales de entrenamiento)\n",
    "tp = np.sum((predictions == positive_class) & (y == positive_class))\n",
    "fp = np.sum((predictions == positive_class) & (y != positive_class))\n",
    "fn = np.sum((predictions != positive_class) & (y == positive_class))\n",
    "\n",
    "\n",
    "\n",
    "\n",
    "#La precisión es útil cuando queremos asegurarnos de que las predicciones positivas del modelo sean confiables.\n",
    "# Un modelo con alta precisión tiende a tener menos falsos positivos.\n",
    "precision = tp / (tp + fp)\n",
    "#El recall es útil cuando queremos asegurarnos de que el modelo identifique la mayoría de los ejemplos positivos. \n",
    "#Un modelo con alto recall tiende a tener menos falsos negativos.\n",
    "recall = tp / (tp + fn)\n",
    "#Este calculo es general y no suele depender de algo individual como son el recall y la precision \n",
    "f1_score = 2 * (precision * recall) / (precision + recall)\n",
    "\n",
    "print(f'Matriz de confusión:')\n",
    "print(f'TP: {tp}, FP: {fp}')\n",
    "print(f'FN: {fn}')\n",
    "print(f'Precision: {precision:.2f}')\n",
    "print(f'Recall: {recall:.2f}')\n",
    "print(f'F1-Score: {f1_score:.2f}')\n"
   ]
  },
  {
   "cell_type": "markdown",
   "id": "44f2f750",
   "metadata": {},
   "source": []
  },
  {
   "cell_type": "code",
   "execution_count": null,
   "id": "9c9d6bdb",
   "metadata": {},
   "outputs": [],
   "source": []
  },
  {
   "cell_type": "code",
   "execution_count": null,
   "id": "63ea6a63",
   "metadata": {},
   "outputs": [],
   "source": []
  },
  {
   "cell_type": "code",
   "execution_count": null,
   "id": "3539cb71",
   "metadata": {},
   "outputs": [],
   "source": []
  },
  {
   "cell_type": "code",
   "execution_count": null,
   "id": "731dff0c",
   "metadata": {},
   "outputs": [],
   "source": []
  }
 ],
 "metadata": {
  "kernelspec": {
   "display_name": "Python 3 (ipykernel)",
   "language": "python",
   "name": "python3"
  },
  "language_info": {
   "codemirror_mode": {
    "name": "ipython",
    "version": 3
   },
   "file_extension": ".py",
   "mimetype": "text/x-python",
   "name": "python",
   "nbconvert_exporter": "python",
   "pygments_lexer": "ipython3",
   "version": "3.11.4"
  }
 },
 "nbformat": 4,
 "nbformat_minor": 5
}
